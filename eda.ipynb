{
 "cells": [
  {
   "cell_type": "code",
   "source": [
    "import os\n",
    "from urllib.request import urlretrieve\n",
    "\n",
    "from matplotlib import pyplot as plt\n",
    "import numpy as np\n",
    "import seaborn as sns\n",
    "\n",
    "sns.set()"
   ],
   "execution_count": null,
   "outputs": [],
   "metadata": {
    "datalore": {
     "node_id": "jJ5EjgxdJEBPdX7kTrC6oH",
     "type": "CODE",
     "hide_input_from_viewers": true,
     "hide_output_from_viewers": true
    }
   }
  },
  {
   "cell_type": "markdown",
   "source": [
    "### Retrieving and loading the dataset"
   ],
   "attachments": {},
   "metadata": {
    "datalore": {
     "node_id": "xXxoB0HgtSp4w3HxvTHvGG",
     "type": "MD",
     "hide_input_from_viewers": true,
     "hide_output_from_viewers": true
    }
   }
  },
  {
   "cell_type": "code",
   "source": [
    "simultaion_name = 'qgs_gm_pr_v2'\n",
    "files_to_download = [f'{simultaion_name}_matrices.npz', f'{simultaion_name}_features.npz', f'{simultaion_name}_true_features.npz']\n",
    "for filename in files_to_download:\n",
    "    if not os.path.exists(filename):\n",
    "        print(f'Downloading {filename}... ', end='')\n",
    "        urlretrieve(f'https://kascade-sim-data.s3.eu-central-1.amazonaws.com/{filename}', filename)\n",
    "        print('Done!')"
   ],
   "execution_count": null,
   "outputs": [],
   "metadata": {
    "datalore": {
     "node_id": "yVjIxpjwWnZKUdEdSPKVjh",
     "type": "CODE",
     "hide_input_from_viewers": true,
     "hide_output_from_viewers": true
    }
   }
  },
  {
   "cell_type": "code",
   "source": [
    "matrices = np.load(f'{simultaion_name}_matrices.npz')['matrices']\n",
    "features = np.load(f'{simultaion_name}_features.npz')['features']\n",
    "true_features = np.load(f'{simultaion_name}_true_features.npz')['true_features']"
   ],
   "execution_count": null,
   "outputs": [],
   "metadata": {
    "datalore": {
     "node_id": "1HWNRLnOOKeWetF1Ca6NHj",
     "type": "CODE",
     "hide_input_from_viewers": true,
     "hide_output_from_viewers": true
    }
   }
  },
  {
   "cell_type": "code",
   "source": [
    "matrices.shape, features.shape, true_features.shape"
   ],
   "execution_count": null,
   "outputs": [],
   "metadata": {
    "datalore": {
     "node_id": "xty0LVUTVdObpxr5l0Rs6Q",
     "type": "CODE",
     "hide_input_from_viewers": true,
     "hide_output_from_viewers": true
    }
   }
  },
  {
   "cell_type": "markdown",
   "source": [
    "### Data exploration\n",
    "\n",
    "For all the details, refer to the [KCDC manual](http://kcdc.ikp.kit.edu/static/pdf/kcdc_mainpage/kcdc-Manual.pdf) (starting from page 45)."
   ],
   "attachments": {},
   "metadata": {
    "datalore": {
     "node_id": "pnKXOYNBLUfGqst0i8V0Aq",
     "type": "MD",
     "hide_input_from_viewers": true,
     "hide_output_from_viewers": true
    }
   }
  },
  {
   "cell_type": "code",
   "source": [
    "f = ['part_type', 'E', 'Xc', 'Yc', 'core_dist', 'Ze', 'Az', 'Ne', 'Nmu', 'Age']\n",
    "tf = ['E', 'part_type', 'Xc', 'Yc', 'Ze', 'Az', 'Ne', 'Np', 'Nmu', 'Nh']"
   ],
   "execution_count": null,
   "outputs": [],
   "metadata": {
    "datalore": {
     "node_id": "nRazQQFGR6E2KUxnyKmIMk",
     "type": "CODE",
     "hide_input_from_viewers": true,
     "hide_output_from_viewers": true
    }
   }
  },
  {
   "cell_type": "code",
   "source": [
    "features[0]"
   ],
   "execution_count": null,
   "outputs": [],
   "metadata": {
    "datalore": {
     "node_id": "6HOkLOnJTcg0dbAvRqn7Sz",
     "type": "CODE",
     "hide_input_from_viewers": true,
     "hide_output_from_viewers": true
    }
   }
  },
  {
   "cell_type": "code",
   "source": [
    "for i in range(len(f)):\n",
    "    plt.hist(features[:, i], label=f[i])\n",
    "    plt.legend()\n",
    "    plt.show()"
   ],
   "execution_count": null,
   "outputs": [],
   "metadata": {
    "datalore": {
     "node_id": "YY7SFJmFMZrmRnpEs5qMcC",
     "type": "CODE",
     "hide_input_from_viewers": true,
     "hide_output_from_viewers": true
    }
   }
  },
  {
   "cell_type": "code",
   "source": [
    "true_features[0]"
   ],
   "execution_count": null,
   "outputs": [],
   "metadata": {
    "datalore": {
     "node_id": "NMO8brTBl16MeQkjzVx5W1",
     "type": "CODE",
     "hide_input_from_viewers": true,
     "hide_output_from_viewers": true
    }
   }
  },
  {
   "cell_type": "code",
   "source": [
    "for i in range(len(tf)):\n",
    "    if i == 7 or i == 9: \n",
    "        continue  # these fields were excluded from simulations\n",
    "    plt.hist(true_features[:, i], label=tf[i])\n",
    "    plt.legend()\n",
    "    plt.show()"
   ],
   "execution_count": null,
   "outputs": [],
   "metadata": {
    "datalore": {
     "node_id": "UtcIxl2ZZV9Pe8NguxiH1S",
     "type": "CODE",
     "hide_input_from_viewers": true,
     "hide_output_from_viewers": true
    }
   }
  },
  {
   "cell_type": "markdown",
   "source": [
    "#### Matrices\n",
    "For each recorded event, there are three 16x16 matrices:\n",
    "1. arrival times per station (ns)\n",
    "2. e/$\\gamma$ energy deposit per station (MeV)\n",
    "3. $\\mu$ energy deposit per station (MeV)\n",
    "\n",
    "#### Features\n",
    "A list of reconstructed properties of the each event:\n",
    "1. **Particle** - particle type (gamma quant or proton)\n",
    "2. **Energy** - first order energy (logarithm of eV)\n",
    "3. **Core Position X** - location of the reconstructed shower core x-position (meters)\n",
    "4. **Core Position Y** - location of the reconstructed shower core y-position (meters)\n",
    "5. **Core Distance** - L2 of the previous two metrics\n",
    "6. **Zenith Angle** - reconstructed zenith angle with respect to the vertical (degrees)\n",
    "7. **Azimuth Angle** - reconstructed azimuth angle with respect to the north (degrees)\n",
    "8. **Electron Number** - reconstructed number of electrons (logarithm of the number)\n",
    "9. **Muon Number** - reconstructed number of Muons (logarithm of the number)\n",
    "10. **Age** - shower shape parameter"
   ],
   "attachments": {},
   "metadata": {
    "datalore": {
     "node_id": "ieL0xN0mnichxDlY3yiVgr",
     "type": "MD",
     "hide_input_from_viewers": true,
     "hide_output_from_viewers": true
    }
   }
  },
  {
   "cell_type": "code",
   "source": [
    "sns.heatmap(matrices[..., 0].sum(0))"
   ],
   "execution_count": null,
   "outputs": [],
   "metadata": {
    "datalore": {
     "node_id": "fbdSCzeCaEU6oDipKOQSNH",
     "type": "CODE",
     "hide_input_from_viewers": true,
     "hide_output_from_viewers": true
    }
   }
  },
  {
   "cell_type": "code",
   "source": [
    "sns.heatmap(matrices[..., 1].sum(0))"
   ],
   "execution_count": null,
   "outputs": [],
   "metadata": {
    "datalore": {
     "node_id": "5I6452XsTk8Q19QPsptxQY",
     "type": "CODE",
     "hide_input_from_viewers": true,
     "hide_output_from_viewers": true
    }
   }
  },
  {
   "cell_type": "code",
   "source": [
    "sns.heatmap(matrices[..., 2].sum(0))"
   ],
   "execution_count": null,
   "outputs": [],
   "metadata": {
    "datalore": {
     "node_id": "5RbK5E8rujJLROxHxbH4p4",
     "type": "CODE",
     "hide_input_from_viewers": true,
     "hide_output_from_viewers": true
    }
   }
  },
  {
   "cell_type": "code",
   "source": [
    "sns.heatmap(matrices[3, ..., 1])"
   ],
   "execution_count": null,
   "outputs": [],
   "metadata": {
    "datalore": {
     "node_id": "o8SBMBATp2mq2ZWW4upwom",
     "type": "CODE",
     "hide_input_from_viewers": true,
     "hide_output_from_viewers": true
    }
   }
  },
  {
   "cell_type": "markdown",
   "source": [
    "## True data\n",
    "\n",
    "Refer to KCDC Simultaion Manual, page 71 https://kcdc.iap.kit.edu/static/pdf/kcdc_mainpage/kcdc-Simulation-Manual.pdf\n",
    "\n",
    "### Fields\n",
    "1. **TrEP** - energy\n",
    "2. **TrPP** - particle type\n",
    "3. **TrXc** - Core X\n",
    "4. **TrYc** - Core Y\n",
    "5. **TrZe** - Zenith\n",
    "6. **TrAz** - Azimuth\n",
    "7. **TrNe** - Number of electrons\n",
    "8. **TrNg** - Number of photons\n",
    "9. **TrNm** - Number of muons\n",
    "10. **TrNh** - Number of hadrons"
   ],
   "attachments": {},
   "metadata": {
    "datalore": {
     "node_id": "NbjNJeSEbKjvfFH44KimiK",
     "type": "MD",
     "hide_input_from_viewers": true,
     "hide_output_from_viewers": true
    }
   }
  }
 ],
 "metadata": {
  "kernelspec": {
   "display_name": "Python",
   "language": "python",
   "name": "python"
  },
  "datalore": {
   "computation_mode": "JUPYTER",
   "package_manager": "pip",
   "base_environment": "default",
   "packages": [],
   "report_row_ids": [],
   "version": 3
  }
 },
 "nbformat": 4,
 "nbformat_minor": 4
}
